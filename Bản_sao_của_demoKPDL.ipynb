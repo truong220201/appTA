{
  "nbformat": 4,
  "nbformat_minor": 0,
  "metadata": {
    "colab": {
      "name": "Bản sao của demoKPDL.ipynb",
      "provenance": [],
      "include_colab_link": true
    },
    "kernelspec": {
      "name": "python3",
      "display_name": "Python 3"
    },
    "language_info": {
      "name": "python"
    }
  },
  "cells": [
    {
      "cell_type": "markdown",
      "metadata": {
        "id": "view-in-github",
        "colab_type": "text"
      },
      "source": [
        "<a href=\"https://colab.research.google.com/github/truong220201/appTA/blob/main/B%E1%BA%A3n_sao_c%E1%BB%A7a_demoKPDL.ipynb\" target=\"_parent\"><img src=\"https://colab.research.google.com/assets/colab-badge.svg\" alt=\"Open In Colab\"/></a>"
      ]
    },
    {
      "cell_type": "code",
      "execution_count": null,
      "metadata": {
        "id": "qSkfA8zcuT21"
      },
      "outputs": [],
      "source": [
        "import numpy as np \n",
        "import pandas as pd \n",
        "import matplotlib.pyplot as plt\n",
        "import seaborn as sns\n",
        "# dùng để vẽ biểu đồ đếm\n",
        "from sklearn.linear_model import LinearRegression\n",
        "# dùng để huấn luyện hồi quy tuyến tính\n",
        "\n",
        "from sklearn import metrics\n",
        "# dùng để tính sai số \n",
        "from sklearn.preprocessing import MinMaxScaler\n",
        "\n",
        "from scipy import stats\n",
        "# tính biểu đồ xác xuất dữ liệu\n",
        "# \n",
        "import plotly.express as px\n",
        "#các dạng biểu đồ\n",
        "from sklearn.decomposition import PCA\n",
        "#phân tích tp chính"
      ]
    },
    {
      "cell_type": "code",
      "source": [
        "data = pd.read_csv('CAvideos1.csv')\n",
        "print('Dataset :',data.shape)\n",
        "data[0:10]"
      ],
      "metadata": {
        "colab": {
          "base_uri": "https://localhost:8080/",
          "height": 1000
        },
        "id": "fOvASG7OudEc",
        "outputId": "065ced2d-44b7-471e-fa8c-0c2b0bd14329"
      },
      "execution_count": null,
      "outputs": [
        {
          "output_type": "stream",
          "name": "stdout",
          "text": [
            "Dataset : (323, 16)\n"
          ]
        },
        {
          "output_type": "execute_result",
          "data": {
            "text/plain": [
              "      video_id trending_date  \\\n",
              "0  n1WpP7iowLc      17.14.11   \n",
              "1  0dBIkQ4Mz1M      17.14.11   \n",
              "2  5qpjK5DgCt4      17.14.11   \n",
              "3  d380meD0W0M      17.14.11   \n",
              "4  2Vv-BfVoq4g      17.14.11   \n",
              "5  0yIWz1XEeyc      17.14.11   \n",
              "6  _uM5kFfkhB8      17.14.11   \n",
              "7  2kyS6SvSYSE      17.14.11   \n",
              "8  JzCsM1vtn78      17.14.11   \n",
              "9  43sm-QwLcx4      17.14.11   \n",
              "\n",
              "                                               title     channel_title  \\\n",
              "0        Eminem - Walk On Water (Audio) ft. BeyoncÃ©        EminemVEVO   \n",
              "1                      PLUSH - Bad Unboxing Fan Mail         iDubbbzTV   \n",
              "2  Racist Superman | Rudy Mancuso, King Bach & Le...      Rudy Mancuso   \n",
              "3                           I Dare You: GOING BALD!?          nigahiga   \n",
              "4        Ed Sheeran - Perfect (Official Music Video)        Ed Sheeran   \n",
              "5  Jake Paul Says Alissa Violet CHEATED with LOGA...        DramaAlert   \n",
              "6             Vanoss Superhero School - New Students      VanossGaming   \n",
              "7                 WE WANT TO TALK ABOUT OUR MARRIAGE      CaseyNeistat   \n",
              "8               THE LOGANG MADE HISTORY. LOL. AGAIN.  Logan Paul Vlogs   \n",
              "9  Finally Sheldon is winning an argument about t...       Sheikh Musa   \n",
              "\n",
              "   category_id              publish_time  \\\n",
              "0           10  2017-11-10T17:00:03.000Z   \n",
              "1           23  2017-11-13T17:00:00.000Z   \n",
              "2           23  2017-11-12T19:05:24.000Z   \n",
              "3           24  2017-11-12T18:01:41.000Z   \n",
              "4           10  2017-11-09T11:04:14.000Z   \n",
              "5           25  2017-11-13T07:37:51.000Z   \n",
              "6           23  2017-11-12T23:52:13.000Z   \n",
              "7           22  2017-11-13T17:13:01.000Z   \n",
              "8           24  2017-11-12T20:19:24.000Z   \n",
              "9           22  2017-11-10T14:10:46.000Z   \n",
              "\n",
              "                                                tags     views    likes  \\\n",
              "0  Eminem|\"Walk\"|\"On\"|\"Water\"|\"Aftermath/Shady/In...  17158579   787425   \n",
              "1  plush|\"bad unboxing\"|\"unboxing\"|\"fan mail\"|\"id...   1014651   127794   \n",
              "2  racist superman|\"rudy\"|\"mancuso\"|\"king\"|\"bach\"...   3191434   146035   \n",
              "3  ryan|\"higa\"|\"higatv\"|\"nigahiga\"|\"i dare you\"|\"...   2095828   132239   \n",
              "4  edsheeran|\"ed sheeran\"|\"acoustic\"|\"live\"|\"cove...  33523622  1634130   \n",
              "5  #DramaAlert|\"Drama\"|\"Alert\"|\"DramaAlert\"|\"keem...   1309699   103755   \n",
              "6  Funny Moments|\"Montage video games\"|\"gaming\"|\"...   2987945   187464   \n",
              "7                                    SHANtell martin    748374    57534   \n",
              "8  logan paul vlog|\"logan paul\"|\"logan\"|\"paul\"|\"o...   4477587   292837   \n",
              "9               God|\"Sheldon Cooper\"|\"Young Sheldon\"    505161     4135   \n",
              "\n",
              "   dislikes  comment_count                                  thumbnail_link  \\\n",
              "0     43420         125882  https://i.ytimg.com/vi/n1WpP7iowLc/default.jpg   \n",
              "1      1688          13030  https://i.ytimg.com/vi/0dBIkQ4Mz1M/default.jpg   \n",
              "2      5339           8181  https://i.ytimg.com/vi/5qpjK5DgCt4/default.jpg   \n",
              "3      1989          17518  https://i.ytimg.com/vi/d380meD0W0M/default.jpg   \n",
              "4     21082          85067  https://i.ytimg.com/vi/2Vv-BfVoq4g/default.jpg   \n",
              "5      4613          12143  https://i.ytimg.com/vi/0yIWz1XEeyc/default.jpg   \n",
              "6      9850          26629  https://i.ytimg.com/vi/_uM5kFfkhB8/default.jpg   \n",
              "7      2967          15959  https://i.ytimg.com/vi/2kyS6SvSYSE/default.jpg   \n",
              "8      4123          36391  https://i.ytimg.com/vi/JzCsM1vtn78/default.jpg   \n",
              "9       976           1484  https://i.ytimg.com/vi/43sm-QwLcx4/default.jpg   \n",
              "\n",
              "   comments_disabled  ratings_disabled  video_error_or_removed  \\\n",
              "0                NaN               NaN                     NaN   \n",
              "1                NaN               NaN                     NaN   \n",
              "2                NaN               NaN                     NaN   \n",
              "3                NaN               NaN                     NaN   \n",
              "4                NaN               NaN                     NaN   \n",
              "5                NaN               NaN                     NaN   \n",
              "6                NaN               NaN                     NaN   \n",
              "7                NaN               NaN                     NaN   \n",
              "8                NaN               NaN                     NaN   \n",
              "9                NaN               NaN                     NaN   \n",
              "\n",
              "                                         description  \n",
              "0  Eminem's new track Walk on Water ft. BeyoncÃ© ...  \n",
              "1  STill got a lot of packages. Probably will las...  \n",
              "2  WATCH MY PREVIOUS VIDEO â–¶ \\n\\nSUBSCRIBE â–º ...  \n",
              "3  I know it's been a while since we did this sho...  \n",
              "4  ðŸŽ§: https://ad.gt/yt-perfect\\nðŸ’°: https://...  \n",
              "5  â–º Follow for News! - https://twitter.com/KEE...  \n",
              "6  Vanoss Merch Shop: https://vanoss.3blackdot.co...  \n",
              "7  SHANTELL'S CHANNEL - https://www.youtube.com/s...  \n",
              "8  Join the movement. Be a Maverick â–º https://S...  \n",
              "9  Sheldon is roasting pastor of the church\\nyoun...  "
            ],
            "text/html": [
              "\n",
              "  <div id=\"df-3835893d-2c33-4cbe-b316-8f28d8278ade\">\n",
              "    <div class=\"colab-df-container\">\n",
              "      <div>\n",
              "<style scoped>\n",
              "    .dataframe tbody tr th:only-of-type {\n",
              "        vertical-align: middle;\n",
              "    }\n",
              "\n",
              "    .dataframe tbody tr th {\n",
              "        vertical-align: top;\n",
              "    }\n",
              "\n",
              "    .dataframe thead th {\n",
              "        text-align: right;\n",
              "    }\n",
              "</style>\n",
              "<table border=\"1\" class=\"dataframe\">\n",
              "  <thead>\n",
              "    <tr style=\"text-align: right;\">\n",
              "      <th></th>\n",
              "      <th>video_id</th>\n",
              "      <th>trending_date</th>\n",
              "      <th>title</th>\n",
              "      <th>channel_title</th>\n",
              "      <th>category_id</th>\n",
              "      <th>publish_time</th>\n",
              "      <th>tags</th>\n",
              "      <th>views</th>\n",
              "      <th>likes</th>\n",
              "      <th>dislikes</th>\n",
              "      <th>comment_count</th>\n",
              "      <th>thumbnail_link</th>\n",
              "      <th>comments_disabled</th>\n",
              "      <th>ratings_disabled</th>\n",
              "      <th>video_error_or_removed</th>\n",
              "      <th>description</th>\n",
              "    </tr>\n",
              "  </thead>\n",
              "  <tbody>\n",
              "    <tr>\n",
              "      <th>0</th>\n",
              "      <td>n1WpP7iowLc</td>\n",
              "      <td>17.14.11</td>\n",
              "      <td>Eminem - Walk On Water (Audio) ft. BeyoncÃ©</td>\n",
              "      <td>EminemVEVO</td>\n",
              "      <td>10</td>\n",
              "      <td>2017-11-10T17:00:03.000Z</td>\n",
              "      <td>Eminem|\"Walk\"|\"On\"|\"Water\"|\"Aftermath/Shady/In...</td>\n",
              "      <td>17158579</td>\n",
              "      <td>787425</td>\n",
              "      <td>43420</td>\n",
              "      <td>125882</td>\n",
              "      <td>https://i.ytimg.com/vi/n1WpP7iowLc/default.jpg</td>\n",
              "      <td>NaN</td>\n",
              "      <td>NaN</td>\n",
              "      <td>NaN</td>\n",
              "      <td>Eminem's new track Walk on Water ft. BeyoncÃ© ...</td>\n",
              "    </tr>\n",
              "    <tr>\n",
              "      <th>1</th>\n",
              "      <td>0dBIkQ4Mz1M</td>\n",
              "      <td>17.14.11</td>\n",
              "      <td>PLUSH - Bad Unboxing Fan Mail</td>\n",
              "      <td>iDubbbzTV</td>\n",
              "      <td>23</td>\n",
              "      <td>2017-11-13T17:00:00.000Z</td>\n",
              "      <td>plush|\"bad unboxing\"|\"unboxing\"|\"fan mail\"|\"id...</td>\n",
              "      <td>1014651</td>\n",
              "      <td>127794</td>\n",
              "      <td>1688</td>\n",
              "      <td>13030</td>\n",
              "      <td>https://i.ytimg.com/vi/0dBIkQ4Mz1M/default.jpg</td>\n",
              "      <td>NaN</td>\n",
              "      <td>NaN</td>\n",
              "      <td>NaN</td>\n",
              "      <td>STill got a lot of packages. Probably will las...</td>\n",
              "    </tr>\n",
              "    <tr>\n",
              "      <th>2</th>\n",
              "      <td>5qpjK5DgCt4</td>\n",
              "      <td>17.14.11</td>\n",
              "      <td>Racist Superman | Rudy Mancuso, King Bach &amp; Le...</td>\n",
              "      <td>Rudy Mancuso</td>\n",
              "      <td>23</td>\n",
              "      <td>2017-11-12T19:05:24.000Z</td>\n",
              "      <td>racist superman|\"rudy\"|\"mancuso\"|\"king\"|\"bach\"...</td>\n",
              "      <td>3191434</td>\n",
              "      <td>146035</td>\n",
              "      <td>5339</td>\n",
              "      <td>8181</td>\n",
              "      <td>https://i.ytimg.com/vi/5qpjK5DgCt4/default.jpg</td>\n",
              "      <td>NaN</td>\n",
              "      <td>NaN</td>\n",
              "      <td>NaN</td>\n",
              "      <td>WATCH MY PREVIOUS VIDEO â–¶ \\n\\nSUBSCRIBE â–º ...</td>\n",
              "    </tr>\n",
              "    <tr>\n",
              "      <th>3</th>\n",
              "      <td>d380meD0W0M</td>\n",
              "      <td>17.14.11</td>\n",
              "      <td>I Dare You: GOING BALD!?</td>\n",
              "      <td>nigahiga</td>\n",
              "      <td>24</td>\n",
              "      <td>2017-11-12T18:01:41.000Z</td>\n",
              "      <td>ryan|\"higa\"|\"higatv\"|\"nigahiga\"|\"i dare you\"|\"...</td>\n",
              "      <td>2095828</td>\n",
              "      <td>132239</td>\n",
              "      <td>1989</td>\n",
              "      <td>17518</td>\n",
              "      <td>https://i.ytimg.com/vi/d380meD0W0M/default.jpg</td>\n",
              "      <td>NaN</td>\n",
              "      <td>NaN</td>\n",
              "      <td>NaN</td>\n",
              "      <td>I know it's been a while since we did this sho...</td>\n",
              "    </tr>\n",
              "    <tr>\n",
              "      <th>4</th>\n",
              "      <td>2Vv-BfVoq4g</td>\n",
              "      <td>17.14.11</td>\n",
              "      <td>Ed Sheeran - Perfect (Official Music Video)</td>\n",
              "      <td>Ed Sheeran</td>\n",
              "      <td>10</td>\n",
              "      <td>2017-11-09T11:04:14.000Z</td>\n",
              "      <td>edsheeran|\"ed sheeran\"|\"acoustic\"|\"live\"|\"cove...</td>\n",
              "      <td>33523622</td>\n",
              "      <td>1634130</td>\n",
              "      <td>21082</td>\n",
              "      <td>85067</td>\n",
              "      <td>https://i.ytimg.com/vi/2Vv-BfVoq4g/default.jpg</td>\n",
              "      <td>NaN</td>\n",
              "      <td>NaN</td>\n",
              "      <td>NaN</td>\n",
              "      <td>ðŸŽ§: https://ad.gt/yt-perfect\\nðŸ’°: https://...</td>\n",
              "    </tr>\n",
              "    <tr>\n",
              "      <th>5</th>\n",
              "      <td>0yIWz1XEeyc</td>\n",
              "      <td>17.14.11</td>\n",
              "      <td>Jake Paul Says Alissa Violet CHEATED with LOGA...</td>\n",
              "      <td>DramaAlert</td>\n",
              "      <td>25</td>\n",
              "      <td>2017-11-13T07:37:51.000Z</td>\n",
              "      <td>#DramaAlert|\"Drama\"|\"Alert\"|\"DramaAlert\"|\"keem...</td>\n",
              "      <td>1309699</td>\n",
              "      <td>103755</td>\n",
              "      <td>4613</td>\n",
              "      <td>12143</td>\n",
              "      <td>https://i.ytimg.com/vi/0yIWz1XEeyc/default.jpg</td>\n",
              "      <td>NaN</td>\n",
              "      <td>NaN</td>\n",
              "      <td>NaN</td>\n",
              "      <td>â–º Follow for News! - https://twitter.com/KEE...</td>\n",
              "    </tr>\n",
              "    <tr>\n",
              "      <th>6</th>\n",
              "      <td>_uM5kFfkhB8</td>\n",
              "      <td>17.14.11</td>\n",
              "      <td>Vanoss Superhero School - New Students</td>\n",
              "      <td>VanossGaming</td>\n",
              "      <td>23</td>\n",
              "      <td>2017-11-12T23:52:13.000Z</td>\n",
              "      <td>Funny Moments|\"Montage video games\"|\"gaming\"|\"...</td>\n",
              "      <td>2987945</td>\n",
              "      <td>187464</td>\n",
              "      <td>9850</td>\n",
              "      <td>26629</td>\n",
              "      <td>https://i.ytimg.com/vi/_uM5kFfkhB8/default.jpg</td>\n",
              "      <td>NaN</td>\n",
              "      <td>NaN</td>\n",
              "      <td>NaN</td>\n",
              "      <td>Vanoss Merch Shop: https://vanoss.3blackdot.co...</td>\n",
              "    </tr>\n",
              "    <tr>\n",
              "      <th>7</th>\n",
              "      <td>2kyS6SvSYSE</td>\n",
              "      <td>17.14.11</td>\n",
              "      <td>WE WANT TO TALK ABOUT OUR MARRIAGE</td>\n",
              "      <td>CaseyNeistat</td>\n",
              "      <td>22</td>\n",
              "      <td>2017-11-13T17:13:01.000Z</td>\n",
              "      <td>SHANtell martin</td>\n",
              "      <td>748374</td>\n",
              "      <td>57534</td>\n",
              "      <td>2967</td>\n",
              "      <td>15959</td>\n",
              "      <td>https://i.ytimg.com/vi/2kyS6SvSYSE/default.jpg</td>\n",
              "      <td>NaN</td>\n",
              "      <td>NaN</td>\n",
              "      <td>NaN</td>\n",
              "      <td>SHANTELL'S CHANNEL - https://www.youtube.com/s...</td>\n",
              "    </tr>\n",
              "    <tr>\n",
              "      <th>8</th>\n",
              "      <td>JzCsM1vtn78</td>\n",
              "      <td>17.14.11</td>\n",
              "      <td>THE LOGANG MADE HISTORY. LOL. AGAIN.</td>\n",
              "      <td>Logan Paul Vlogs</td>\n",
              "      <td>24</td>\n",
              "      <td>2017-11-12T20:19:24.000Z</td>\n",
              "      <td>logan paul vlog|\"logan paul\"|\"logan\"|\"paul\"|\"o...</td>\n",
              "      <td>4477587</td>\n",
              "      <td>292837</td>\n",
              "      <td>4123</td>\n",
              "      <td>36391</td>\n",
              "      <td>https://i.ytimg.com/vi/JzCsM1vtn78/default.jpg</td>\n",
              "      <td>NaN</td>\n",
              "      <td>NaN</td>\n",
              "      <td>NaN</td>\n",
              "      <td>Join the movement. Be a Maverick â–º https://S...</td>\n",
              "    </tr>\n",
              "    <tr>\n",
              "      <th>9</th>\n",
              "      <td>43sm-QwLcx4</td>\n",
              "      <td>17.14.11</td>\n",
              "      <td>Finally Sheldon is winning an argument about t...</td>\n",
              "      <td>Sheikh Musa</td>\n",
              "      <td>22</td>\n",
              "      <td>2017-11-10T14:10:46.000Z</td>\n",
              "      <td>God|\"Sheldon Cooper\"|\"Young Sheldon\"</td>\n",
              "      <td>505161</td>\n",
              "      <td>4135</td>\n",
              "      <td>976</td>\n",
              "      <td>1484</td>\n",
              "      <td>https://i.ytimg.com/vi/43sm-QwLcx4/default.jpg</td>\n",
              "      <td>NaN</td>\n",
              "      <td>NaN</td>\n",
              "      <td>NaN</td>\n",
              "      <td>Sheldon is roasting pastor of the church\\nyoun...</td>\n",
              "    </tr>\n",
              "  </tbody>\n",
              "</table>\n",
              "</div>\n",
              "      <button class=\"colab-df-convert\" onclick=\"convertToInteractive('df-3835893d-2c33-4cbe-b316-8f28d8278ade')\"\n",
              "              title=\"Convert this dataframe to an interactive table.\"\n",
              "              style=\"display:none;\">\n",
              "        \n",
              "  <svg xmlns=\"http://www.w3.org/2000/svg\" height=\"24px\"viewBox=\"0 0 24 24\"\n",
              "       width=\"24px\">\n",
              "    <path d=\"M0 0h24v24H0V0z\" fill=\"none\"/>\n",
              "    <path d=\"M18.56 5.44l.94 2.06.94-2.06 2.06-.94-2.06-.94-.94-2.06-.94 2.06-2.06.94zm-11 1L8.5 8.5l.94-2.06 2.06-.94-2.06-.94L8.5 2.5l-.94 2.06-2.06.94zm10 10l.94 2.06.94-2.06 2.06-.94-2.06-.94-.94-2.06-.94 2.06-2.06.94z\"/><path d=\"M17.41 7.96l-1.37-1.37c-.4-.4-.92-.59-1.43-.59-.52 0-1.04.2-1.43.59L10.3 9.45l-7.72 7.72c-.78.78-.78 2.05 0 2.83L4 21.41c.39.39.9.59 1.41.59.51 0 1.02-.2 1.41-.59l7.78-7.78 2.81-2.81c.8-.78.8-2.07 0-2.86zM5.41 20L4 18.59l7.72-7.72 1.47 1.35L5.41 20z\"/>\n",
              "  </svg>\n",
              "      </button>\n",
              "      \n",
              "  <style>\n",
              "    .colab-df-container {\n",
              "      display:flex;\n",
              "      flex-wrap:wrap;\n",
              "      gap: 12px;\n",
              "    }\n",
              "\n",
              "    .colab-df-convert {\n",
              "      background-color: #E8F0FE;\n",
              "      border: none;\n",
              "      border-radius: 50%;\n",
              "      cursor: pointer;\n",
              "      display: none;\n",
              "      fill: #1967D2;\n",
              "      height: 32px;\n",
              "      padding: 0 0 0 0;\n",
              "      width: 32px;\n",
              "    }\n",
              "\n",
              "    .colab-df-convert:hover {\n",
              "      background-color: #E2EBFA;\n",
              "      box-shadow: 0px 1px 2px rgba(60, 64, 67, 0.3), 0px 1px 3px 1px rgba(60, 64, 67, 0.15);\n",
              "      fill: #174EA6;\n",
              "    }\n",
              "\n",
              "    [theme=dark] .colab-df-convert {\n",
              "      background-color: #3B4455;\n",
              "      fill: #D2E3FC;\n",
              "    }\n",
              "\n",
              "    [theme=dark] .colab-df-convert:hover {\n",
              "      background-color: #434B5C;\n",
              "      box-shadow: 0px 1px 3px 1px rgba(0, 0, 0, 0.15);\n",
              "      filter: drop-shadow(0px 1px 2px rgba(0, 0, 0, 0.3));\n",
              "      fill: #FFFFFF;\n",
              "    }\n",
              "  </style>\n",
              "\n",
              "      <script>\n",
              "        const buttonEl =\n",
              "          document.querySelector('#df-3835893d-2c33-4cbe-b316-8f28d8278ade button.colab-df-convert');\n",
              "        buttonEl.style.display =\n",
              "          google.colab.kernel.accessAllowed ? 'block' : 'none';\n",
              "\n",
              "        async function convertToInteractive(key) {\n",
              "          const element = document.querySelector('#df-3835893d-2c33-4cbe-b316-8f28d8278ade');\n",
              "          const dataTable =\n",
              "            await google.colab.kernel.invokeFunction('convertToInteractive',\n",
              "                                                     [key], {});\n",
              "          if (!dataTable) return;\n",
              "\n",
              "          const docLinkHtml = 'Like what you see? Visit the ' +\n",
              "            '<a target=\"_blank\" href=https://colab.research.google.com/notebooks/data_table.ipynb>data table notebook</a>'\n",
              "            + ' to learn more about interactive tables.';\n",
              "          element.innerHTML = '';\n",
              "          dataTable['output_type'] = 'display_data';\n",
              "          await google.colab.output.renderOutput(dataTable, element);\n",
              "          const docLink = document.createElement('div');\n",
              "          docLink.innerHTML = docLinkHtml;\n",
              "          element.appendChild(docLink);\n",
              "        }\n",
              "      </script>\n",
              "    </div>\n",
              "  </div>\n",
              "  "
            ]
          },
          "metadata": {},
          "execution_count": 25
        }
      ]
    },
    {
      "cell_type": "code",
      "source": [
        "data.describe()\n",
        "#Phương pháp trả về mô tả dữ liệu trong DataFrame"
      ],
      "metadata": {
        "colab": {
          "base_uri": "https://localhost:8080/",
          "height": 364
        },
        "id": "jqj43_hRufEq",
        "outputId": "32c04ea5-9fe9-4477-f61d-e97b55f5f0bd"
      },
      "execution_count": null,
      "outputs": [
        {
          "output_type": "execute_result",
          "data": {
            "text/plain": [
              "       category_id         views         likes       dislikes  comment_count  \\\n",
              "count   323.000000  3.230000e+02  3.230000e+02     323.000000     323.000000   \n",
              "mean     20.854489  1.171193e+06  4.350331e+04    2618.501548    4881.071207   \n",
              "std       6.694802  3.408184e+06  1.522602e+05   15065.119924   14165.717825   \n",
              "min       1.000000  3.684000e+03  0.000000e+00       0.000000       0.000000   \n",
              "25%      20.000000  1.308305e+05  1.503000e+03      93.000000     323.500000   \n",
              "50%      23.000000  3.411340e+05  9.323000e+03     291.000000    1272.000000   \n",
              "75%      24.000000  9.069270e+05  3.085050e+04    1129.500000    3292.000000   \n",
              "max      43.000000  3.908222e+07  1.721384e+06  200391.000000  125882.000000   \n",
              "\n",
              "       comments_disabled  ratings_disabled  video_error_or_removed  \n",
              "count                4.0               2.0                     0.0  \n",
              "mean                 1.0               1.0                     NaN  \n",
              "std                  0.0               0.0                     NaN  \n",
              "min                  1.0               1.0                     NaN  \n",
              "25%                  1.0               1.0                     NaN  \n",
              "50%                  1.0               1.0                     NaN  \n",
              "75%                  1.0               1.0                     NaN  \n",
              "max                  1.0               1.0                     NaN  "
            ],
            "text/html": [
              "\n",
              "  <div id=\"df-e1254e94-f79e-4250-b74c-74591464908f\">\n",
              "    <div class=\"colab-df-container\">\n",
              "      <div>\n",
              "<style scoped>\n",
              "    .dataframe tbody tr th:only-of-type {\n",
              "        vertical-align: middle;\n",
              "    }\n",
              "\n",
              "    .dataframe tbody tr th {\n",
              "        vertical-align: top;\n",
              "    }\n",
              "\n",
              "    .dataframe thead th {\n",
              "        text-align: right;\n",
              "    }\n",
              "</style>\n",
              "<table border=\"1\" class=\"dataframe\">\n",
              "  <thead>\n",
              "    <tr style=\"text-align: right;\">\n",
              "      <th></th>\n",
              "      <th>category_id</th>\n",
              "      <th>views</th>\n",
              "      <th>likes</th>\n",
              "      <th>dislikes</th>\n",
              "      <th>comment_count</th>\n",
              "      <th>comments_disabled</th>\n",
              "      <th>ratings_disabled</th>\n",
              "      <th>video_error_or_removed</th>\n",
              "    </tr>\n",
              "  </thead>\n",
              "  <tbody>\n",
              "    <tr>\n",
              "      <th>count</th>\n",
              "      <td>323.000000</td>\n",
              "      <td>3.230000e+02</td>\n",
              "      <td>3.230000e+02</td>\n",
              "      <td>323.000000</td>\n",
              "      <td>323.000000</td>\n",
              "      <td>4.0</td>\n",
              "      <td>2.0</td>\n",
              "      <td>0.0</td>\n",
              "    </tr>\n",
              "    <tr>\n",
              "      <th>mean</th>\n",
              "      <td>20.854489</td>\n",
              "      <td>1.171193e+06</td>\n",
              "      <td>4.350331e+04</td>\n",
              "      <td>2618.501548</td>\n",
              "      <td>4881.071207</td>\n",
              "      <td>1.0</td>\n",
              "      <td>1.0</td>\n",
              "      <td>NaN</td>\n",
              "    </tr>\n",
              "    <tr>\n",
              "      <th>std</th>\n",
              "      <td>6.694802</td>\n",
              "      <td>3.408184e+06</td>\n",
              "      <td>1.522602e+05</td>\n",
              "      <td>15065.119924</td>\n",
              "      <td>14165.717825</td>\n",
              "      <td>0.0</td>\n",
              "      <td>0.0</td>\n",
              "      <td>NaN</td>\n",
              "    </tr>\n",
              "    <tr>\n",
              "      <th>min</th>\n",
              "      <td>1.000000</td>\n",
              "      <td>3.684000e+03</td>\n",
              "      <td>0.000000e+00</td>\n",
              "      <td>0.000000</td>\n",
              "      <td>0.000000</td>\n",
              "      <td>1.0</td>\n",
              "      <td>1.0</td>\n",
              "      <td>NaN</td>\n",
              "    </tr>\n",
              "    <tr>\n",
              "      <th>25%</th>\n",
              "      <td>20.000000</td>\n",
              "      <td>1.308305e+05</td>\n",
              "      <td>1.503000e+03</td>\n",
              "      <td>93.000000</td>\n",
              "      <td>323.500000</td>\n",
              "      <td>1.0</td>\n",
              "      <td>1.0</td>\n",
              "      <td>NaN</td>\n",
              "    </tr>\n",
              "    <tr>\n",
              "      <th>50%</th>\n",
              "      <td>23.000000</td>\n",
              "      <td>3.411340e+05</td>\n",
              "      <td>9.323000e+03</td>\n",
              "      <td>291.000000</td>\n",
              "      <td>1272.000000</td>\n",
              "      <td>1.0</td>\n",
              "      <td>1.0</td>\n",
              "      <td>NaN</td>\n",
              "    </tr>\n",
              "    <tr>\n",
              "      <th>75%</th>\n",
              "      <td>24.000000</td>\n",
              "      <td>9.069270e+05</td>\n",
              "      <td>3.085050e+04</td>\n",
              "      <td>1129.500000</td>\n",
              "      <td>3292.000000</td>\n",
              "      <td>1.0</td>\n",
              "      <td>1.0</td>\n",
              "      <td>NaN</td>\n",
              "    </tr>\n",
              "    <tr>\n",
              "      <th>max</th>\n",
              "      <td>43.000000</td>\n",
              "      <td>3.908222e+07</td>\n",
              "      <td>1.721384e+06</td>\n",
              "      <td>200391.000000</td>\n",
              "      <td>125882.000000</td>\n",
              "      <td>1.0</td>\n",
              "      <td>1.0</td>\n",
              "      <td>NaN</td>\n",
              "    </tr>\n",
              "  </tbody>\n",
              "</table>\n",
              "</div>\n",
              "      <button class=\"colab-df-convert\" onclick=\"convertToInteractive('df-e1254e94-f79e-4250-b74c-74591464908f')\"\n",
              "              title=\"Convert this dataframe to an interactive table.\"\n",
              "              style=\"display:none;\">\n",
              "        \n",
              "  <svg xmlns=\"http://www.w3.org/2000/svg\" height=\"24px\"viewBox=\"0 0 24 24\"\n",
              "       width=\"24px\">\n",
              "    <path d=\"M0 0h24v24H0V0z\" fill=\"none\"/>\n",
              "    <path d=\"M18.56 5.44l.94 2.06.94-2.06 2.06-.94-2.06-.94-.94-2.06-.94 2.06-2.06.94zm-11 1L8.5 8.5l.94-2.06 2.06-.94-2.06-.94L8.5 2.5l-.94 2.06-2.06.94zm10 10l.94 2.06.94-2.06 2.06-.94-2.06-.94-.94-2.06-.94 2.06-2.06.94z\"/><path d=\"M17.41 7.96l-1.37-1.37c-.4-.4-.92-.59-1.43-.59-.52 0-1.04.2-1.43.59L10.3 9.45l-7.72 7.72c-.78.78-.78 2.05 0 2.83L4 21.41c.39.39.9.59 1.41.59.51 0 1.02-.2 1.41-.59l7.78-7.78 2.81-2.81c.8-.78.8-2.07 0-2.86zM5.41 20L4 18.59l7.72-7.72 1.47 1.35L5.41 20z\"/>\n",
              "  </svg>\n",
              "      </button>\n",
              "      \n",
              "  <style>\n",
              "    .colab-df-container {\n",
              "      display:flex;\n",
              "      flex-wrap:wrap;\n",
              "      gap: 12px;\n",
              "    }\n",
              "\n",
              "    .colab-df-convert {\n",
              "      background-color: #E8F0FE;\n",
              "      border: none;\n",
              "      border-radius: 50%;\n",
              "      cursor: pointer;\n",
              "      display: none;\n",
              "      fill: #1967D2;\n",
              "      height: 32px;\n",
              "      padding: 0 0 0 0;\n",
              "      width: 32px;\n",
              "    }\n",
              "\n",
              "    .colab-df-convert:hover {\n",
              "      background-color: #E2EBFA;\n",
              "      box-shadow: 0px 1px 2px rgba(60, 64, 67, 0.3), 0px 1px 3px 1px rgba(60, 64, 67, 0.15);\n",
              "      fill: #174EA6;\n",
              "    }\n",
              "\n",
              "    [theme=dark] .colab-df-convert {\n",
              "      background-color: #3B4455;\n",
              "      fill: #D2E3FC;\n",
              "    }\n",
              "\n",
              "    [theme=dark] .colab-df-convert:hover {\n",
              "      background-color: #434B5C;\n",
              "      box-shadow: 0px 1px 3px 1px rgba(0, 0, 0, 0.15);\n",
              "      filter: drop-shadow(0px 1px 2px rgba(0, 0, 0, 0.3));\n",
              "      fill: #FFFFFF;\n",
              "    }\n",
              "  </style>\n",
              "\n",
              "      <script>\n",
              "        const buttonEl =\n",
              "          document.querySelector('#df-e1254e94-f79e-4250-b74c-74591464908f button.colab-df-convert');\n",
              "        buttonEl.style.display =\n",
              "          google.colab.kernel.accessAllowed ? 'block' : 'none';\n",
              "\n",
              "        async function convertToInteractive(key) {\n",
              "          const element = document.querySelector('#df-e1254e94-f79e-4250-b74c-74591464908f');\n",
              "          const dataTable =\n",
              "            await google.colab.kernel.invokeFunction('convertToInteractive',\n",
              "                                                     [key], {});\n",
              "          if (!dataTable) return;\n",
              "\n",
              "          const docLinkHtml = 'Like what you see? Visit the ' +\n",
              "            '<a target=\"_blank\" href=https://colab.research.google.com/notebooks/data_table.ipynb>data table notebook</a>'\n",
              "            + ' to learn more about interactive tables.';\n",
              "          element.innerHTML = '';\n",
              "          dataTable['output_type'] = 'display_data';\n",
              "          await google.colab.output.renderOutput(dataTable, element);\n",
              "          const docLink = document.createElement('div');\n",
              "          docLink.innerHTML = docLinkHtml;\n",
              "          element.appendChild(docLink);\n",
              "        }\n",
              "      </script>\n",
              "    </div>\n",
              "  </div>\n",
              "  "
            ]
          },
          "metadata": {},
          "execution_count": 26
        }
      ]
    },
    {
      "cell_type": "code",
      "source": [
        "sns.countplot(x='category_id', data=data ) \n",
        "plt.show()\n",
        "#dùng seaborn với biến số hạng đơn, sử dụng hàm countplot () để vẽ biểu đồ đếm"
      ],
      "metadata": {
        "colab": {
          "base_uri": "https://localhost:8080/",
          "height": 280
        },
        "id": "8S-zTA_quj8k",
        "outputId": "8a102adc-4743-4250-d67a-afe91454b7ba"
      },
      "execution_count": null,
      "outputs": [
        {
          "output_type": "display_data",
          "data": {
            "text/plain": [
              "<Figure size 432x288 with 1 Axes>"
            ],
            "image/png": "[encoded data removed]"
          },
          "metadata": {
            "needs_background": "light"
          }
        }
      ]
    },
    {
      "cell_type": "code",
      "source": [
        "plt.hist(data['category_id'], bins = 100)\n",
        "plt.title('Sử dụng matplotlib')\n",
        "plt.xlabel('Category_id')\n",
        "plt.ylabel('Count')\n",
        "plt.show()"
      ],
      "metadata": {
        "colab": {
          "base_uri": "https://localhost:8080/",
          "height": 296
        },
        "id": "W5NKh6oyum4B",
        "outputId": "d54321bc-40ac-44ca-ba48-802afd5d40ba"
      },
      "execution_count": null,
      "outputs": [
        {
          "output_type": "display_data",
          "data": {
            "text/plain": [
              "<Figure size 432x288 with 1 Axes>"
            ],
            "image/png": "[encoded data removed]"
          },
          "metadata": {
            "needs_background": "light"
          }
        }
      ]
    },
    {
      "cell_type": "code",
      "source": [
        "#Lượt xem(views), Lượt thích(likes)\n",
        "fig, ax = plt.subplots()\n",
        "ax.scatter(data['views'], data['likes'])\n",
        "plt.ylabel('Views', fontsize=12)\n",
        "plt.xlabel('Likes', fontsize=12)\n",
        "plt.title('BD phân tán', fontsize=16)\n",
        "plt.show()"
      ],
      "metadata": {
        "colab": {
          "base_uri": "https://localhost:8080/",
          "height": 301
        },
        "id": "Y35OBZsQurU3",
        "outputId": "c1d2b3b1-a32a-4679-f604-e0c6bc61401d"
      },
      "execution_count": null,
      "outputs": [
        {
          "output_type": "display_data",
          "data": {
            "text/plain": [
              "<Figure size 432x288 with 1 Axes>"
            ],
            "image/png": "[encoded data removed]"
          },
          "metadata": {
            "needs_background": "light"
          }
        }
      ]
    },
    {
      "cell_type": "code",
      "source": [
        "fig = plt.figure()\n",
        "ax = fig.add_subplot()\n",
        "res = stats.probplot(data['likes'], plot=plt)\n",
        "plt.title('Dự đoán xác xuất', fontsize=16)\n",
        "plt.show()"
      ],
      "metadata": {
        "colab": {
          "base_uri": "https://localhost:8080/",
          "height": 298
        },
        "id": "LY3PRRtPus1T",
        "outputId": "bd6da1a7-b5cf-4b26-e9c2-7ef94f47100c"
      },
      "execution_count": null,
      "outputs": [
        {
          "output_type": "display_data",
          "data": {
            "text/plain": [
              "<Figure size 432x288 with 1 Axes>"
            ],
            "image/png": "[encoded data removed]"
          },
          "metadata": {
            "needs_background": "light"
          }
        }
      ]
    },
    {
      "cell_type": "code",
      "source": [
        "data1 = data.drop(columns=['video_id','trending_date','channel_title','publish_time','title','tags','thumbnail_link','description','comments_disabled','ratings_disabled','ratings_disabled','video_error_or_removed'], axis=1)\n",
        "#Hàm dropna() áp dụng trên đối tượng DataFrame và được dùng để loại bỏ các ô dữ liệu trống.\n",
        "data1 = data1.dropna(how='any')\n",
        "print(data1.shape)"
      ],
      "metadata": {
        "colab": {
          "base_uri": "https://localhost:8080/"
        },
        "id": "Sp_SYSRSuxjZ",
        "outputId": "e333a8fa-e593-4b3b-c0f4-bbfcbd9900c7"
      },
      "execution_count": null,
      "outputs": [
        {
          "output_type": "stream",
          "name": "stdout",
          "text": [
            "(323, 5)\n"
          ]
        }
      ]
    },
    {
      "cell_type": "code",
      "source": [
        "print(data1.shape)\n",
        "data1.head()\n",
        "# Trả về 5 hàng đầu tiên của dataframe"
      ],
      "metadata": {
        "colab": {
          "base_uri": "https://localhost:8080/",
          "height": 224
        },
        "id": "xlnpOAmcuy_v",
        "outputId": "b1f8fb6c-9036-4d53-b820-823b8e20ebc7"
      },
      "execution_count": null,
      "outputs": [
        {
          "output_type": "stream",
          "name": "stdout",
          "text": [
            "(323, 5)\n"
          ]
        },
        {
          "output_type": "execute_result",
          "data": {
            "text/plain": [
              "   category_id     views    likes  dislikes  comment_count\n",
              "0           10  17158579   787425     43420         125882\n",
              "1           23   1014651   127794      1688          13030\n",
              "2           23   3191434   146035      5339           8181\n",
              "3           24   2095828   132239      1989          17518\n",
              "4           10  33523622  1634130     21082          85067"
            ],
            "text/html": [
              "\n",
              "  <div id=\"df-5712f35f-233b-4d8e-afad-ea17b8839bb5\">\n",
              "    <div class=\"colab-df-container\">\n",
              "      <div>\n",
              "<style scoped>\n",
              "    .dataframe tbody tr th:only-of-type {\n",
              "        vertical-align: middle;\n",
              "    }\n",
              "\n",
              "    .dataframe tbody tr th {\n",
              "        vertical-align: top;\n",
              "    }\n",
              "\n",
              "    .dataframe thead th {\n",
              "        text-align: right;\n",
              "    }\n",
              "</style>\n",
              "<table border=\"1\" class=\"dataframe\">\n",
              "  <thead>\n",
              "    <tr style=\"text-align: right;\">\n",
              "      <th></th>\n",
              "      <th>category_id</th>\n",
              "      <th>views</th>\n",
              "      <th>likes</th>\n",
              "      <th>dislikes</th>\n",
              "      <th>comment_count</th>\n",
              "    </tr>\n",
              "  </thead>\n",
              "  <tbody>\n",
              "    <tr>\n",
              "      <th>0</th>\n",
              "      <td>10</td>\n",
              "      <td>17158579</td>\n",
              "      <td>787425</td>\n",
              "      <td>43420</td>\n",
              "      <td>125882</td>\n",
              "    </tr>\n",
              "    <tr>\n",
              "      <th>1</th>\n",
              "      <td>23</td>\n",
              "      <td>1014651</td>\n",
              "      <td>127794</td>\n",
              "      <td>1688</td>\n",
              "      <td>13030</td>\n",
              "    </tr>\n",
              "    <tr>\n",
              "      <th>2</th>\n",
              "      <td>23</td>\n",
              "      <td>3191434</td>\n",
              "      <td>146035</td>\n",
              "      <td>5339</td>\n",
              "      <td>8181</td>\n",
              "    </tr>\n",
              "    <tr>\n",
              "      <th>3</th>\n",
              "      <td>24</td>\n",
              "      <td>2095828</td>\n",
              "      <td>132239</td>\n",
              "      <td>1989</td>\n",
              "      <td>17518</td>\n",
              "    </tr>\n",
              "    <tr>\n",
              "      <th>4</th>\n",
              "      <td>10</td>\n",
              "      <td>33523622</td>\n",
              "      <td>1634130</td>\n",
              "      <td>21082</td>\n",
              "      <td>85067</td>\n",
              "    </tr>\n",
              "  </tbody>\n",
              "</table>\n",
              "</div>\n",
              "      <button class=\"colab-df-convert\" onclick=\"convertToInteractive('df-5712f35f-233b-4d8e-afad-ea17b8839bb5')\"\n",
              "              title=\"Convert this dataframe to an interactive table.\"\n",
              "              style=\"display:none;\">\n",
              "        \n",
              "  <svg xmlns=\"http://www.w3.org/2000/svg\" height=\"24px\"viewBox=\"0 0 24 24\"\n",
              "       width=\"24px\">\n",
              "    <path d=\"M0 0h24v24H0V0z\" fill=\"none\"/>\n",
              "    <path d=\"M18.56 5.44l.94 2.06.94-2.06 2.06-.94-2.06-.94-.94-2.06-.94 2.06-2.06.94zm-11 1L8.5 8.5l.94-2.06 2.06-.94-2.06-.94L8.5 2.5l-.94 2.06-2.06.94zm10 10l.94 2.06.94-2.06 2.06-.94-2.06-.94-.94-2.06-.94 2.06-2.06.94z\"/><path d=\"M17.41 7.96l-1.37-1.37c-.4-.4-.92-.59-1.43-.59-.52 0-1.04.2-1.43.59L10.3 9.45l-7.72 7.72c-.78.78-.78 2.05 0 2.83L4 21.41c.39.39.9.59 1.41.59.51 0 1.02-.2 1.41-.59l7.78-7.78 2.81-2.81c.8-.78.8-2.07 0-2.86zM5.41 20L4 18.59l7.72-7.72 1.47 1.35L5.41 20z\"/>\n",
              "  </svg>\n",
              "      </button>\n",
              "      \n",
              "  <style>\n",
              "    .colab-df-container {\n",
              "      display:flex;\n",
              "      flex-wrap:wrap;\n",
              "      gap: 12px;\n",
              "    }\n",
              "\n",
              "    .colab-df-convert {\n",
              "      background-color: #E8F0FE;\n",
              "      border: none;\n",
              "      border-radius: 50%;\n",
              "      cursor: pointer;\n",
              "      display: none;\n",
              "      fill: #1967D2;\n",
              "      height: 32px;\n",
              "      padding: 0 0 0 0;\n",
              "      width: 32px;\n",
              "    }\n",
              "\n",
              "    .colab-df-convert:hover {\n",
              "      background-color: #E2EBFA;\n",
              "      box-shadow: 0px 1px 2px rgba(60, 64, 67, 0.3), 0px 1px 3px 1px rgba(60, 64, 67, 0.15);\n",
              "      fill: #174EA6;\n",
              "    }\n",
              "\n",
              "    [theme=dark] .colab-df-convert {\n",
              "      background-color: #3B4455;\n",
              "      fill: #D2E3FC;\n",
              "    }\n",
              "\n",
              "    [theme=dark] .colab-df-convert:hover {\n",
              "      background-color: #434B5C;\n",
              "      box-shadow: 0px 1px 3px 1px rgba(0, 0, 0, 0.15);\n",
              "      filter: drop-shadow(0px 1px 2px rgba(0, 0, 0, 0.3));\n",
              "      fill: #FFFFFF;\n",
              "    }\n",
              "  </style>\n",
              "\n",
              "      <script>\n",
              "        const buttonEl =\n",
              "          document.querySelector('#df-5712f35f-233b-4d8e-afad-ea17b8839bb5 button.colab-df-convert');\n",
              "        buttonEl.style.display =\n",
              "          google.colab.kernel.accessAllowed ? 'block' : 'none';\n",
              "\n",
              "        async function convertToInteractive(key) {\n",
              "          const element = document.querySelector('#df-5712f35f-233b-4d8e-afad-ea17b8839bb5');\n",
              "          const dataTable =\n",
              "            await google.colab.kernel.invokeFunction('convertToInteractive',\n",
              "                                                     [key], {});\n",
              "          if (!dataTable) return;\n",
              "\n",
              "          const docLinkHtml = 'Like what you see? Visit the ' +\n",
              "            '<a target=\"_blank\" href=https://colab.research.google.com/notebooks/data_table.ipynb>data table notebook</a>'\n",
              "            + ' to learn more about interactive tables.';\n",
              "          element.innerHTML = '';\n",
              "          dataTable['output_type'] = 'display_data';\n",
              "          await google.colab.output.renderOutput(dataTable, element);\n",
              "          const docLink = document.createElement('div');\n",
              "          docLink.innerHTML = docLinkHtml;\n",
              "          element.appendChild(docLink);\n",
              "        }\n",
              "      </script>\n",
              "    </div>\n",
              "  </div>\n",
              "  "
            ]
          },
          "metadata": {},
          "execution_count": 32
        }
      ]
    },
    {
      "cell_type": "code",
      "source": [
        "# gán giá trị X vs y\n",
        "X= data1[['comment_count', 'views', 'likes','dislikes']]\n",
        "y= data1['category_id']\n",
        "print(X)\n",
        "print(\"\\n\")\n",
        "print(y)"
      ],
      "metadata": {
        "colab": {
          "base_uri": "https://localhost:8080/"
        },
        "id": "GkiEH0ftu3SH",
        "outputId": "25e40252-0d81-4cd0-d8c6-c8127e8592a8"
      },
      "execution_count": null,
      "outputs": [
        {
          "output_type": "stream",
          "name": "stdout",
          "text": [
            "     comment_count     views    likes  dislikes\n",
            "0           125882  17158579   787425     43420\n",
            "1            13030   1014651   127794      1688\n",
            "2             8181   3191434   146035      5339\n",
            "3            17518   2095828   132239      1989\n",
            "4            85067  33523622  1634130     21082\n",
            "..             ...       ...      ...       ...\n",
            "318            433    347848    10046        84\n",
            "319           1553    391642     4378       371\n",
            "320           9107   1663206    38322      3867\n",
            "321           4523    405955    30369       926\n",
            "322            782    286273     1264       335\n",
            "\n",
            "[323 rows x 4 columns]\n",
            "\n",
            "\n",
            "0      10\n",
            "1      23\n",
            "2      23\n",
            "3      24\n",
            "4      10\n",
            "       ..\n",
            "318    24\n",
            "319    24\n",
            "320    28\n",
            "321    23\n",
            "322    25\n",
            "Name: category_id, Length: 323, dtype: int64\n"
          ]
        }
      ]
    },
    {
      "cell_type": "code",
      "source": [
        "#in số lần giá trị xuất hiện của y\n",
        "print(y.value_counts())"
      ],
      "metadata": {
        "colab": {
          "base_uri": "https://localhost:8080/"
        },
        "id": "JKv6xMBOu4hI",
        "outputId": "74cf664a-1c59-477b-812f-29dc5670f44a"
      },
      "execution_count": null,
      "outputs": [
        {
          "output_type": "stream",
          "name": "stdout",
          "text": [
            "24    85\n",
            "22    47\n",
            "23    43\n",
            "25    32\n",
            "10    27\n",
            "17    19\n",
            "1     16\n",
            "26    12\n",
            "28    12\n",
            "20     9\n",
            "27     7\n",
            "19     5\n",
            "15     3\n",
            "2      3\n",
            "29     2\n",
            "43     1\n",
            "Name: category_id, dtype: int64\n"
          ]
        }
      ]
    },
    {
      "cell_type": "code",
      "source": [
        "# random state là 1 phần thuật toán của scitkit.\n",
        "from sklearn.model_selection import train_test_split\n",
        "X_train, X_test, y_train, y_test = train_test_split(X, y, test_size=0.1 , random_state=9)"
      ],
      "metadata": {
        "id": "TzT4PJRxu69H"
      },
      "execution_count": null,
      "outputs": []
    },
    {
      "cell_type": "code",
      "source": [
        "print('Train set :', X_train.shape, y_train.shape)\n",
        "print('Train set :', X_test.shape, y_test.shape)"
      ],
      "metadata": {
        "colab": {
          "base_uri": "https://localhost:8080/"
        },
        "id": "_OlQqWIZu-fx",
        "outputId": "92fdb4e6-ff7e-4f3b-ac41-723dbafac112"
      },
      "execution_count": null,
      "outputs": [
        {
          "output_type": "stream",
          "name": "stdout",
          "text": [
            "Train set : (290, 4) (290,)\n",
            "Train set : (33, 4) (33,)\n"
          ]
        }
      ]
    },
    {
      "cell_type": "code",
      "source": [
        "#Sử dụng kỹ thuật hồi quy Linear Regression để huấn luyện với X_train,y_train.\n",
        "model_lr = LinearRegression().fit(X_train, y_train)\n",
        "#LinearRegression"
      ],
      "metadata": {
        "id": "G1R-y_PrvBMb"
      },
      "execution_count": null,
      "outputs": []
    },
    {
      "cell_type": "code",
      "source": [
        "y_pred = model_lr.predict(X_test)\n",
        "print(y_pred)\n"
      ],
      "metadata": {
        "colab": {
          "base_uri": "https://localhost:8080/"
        },
        "id": "GTrGRWCavCWD",
        "outputId": "f4ffdd12-ea0e-4f0c-ee31-c14c5d23c475"
      },
      "execution_count": null,
      "outputs": [
        {
          "output_type": "stream",
          "name": "stdout",
          "text": [
            "[21.33656839 21.24692971 21.41888886 21.3097772  21.1649767  21.26751868\n",
            " 17.48322085 21.35674915 21.0228658  21.37107049 21.33894942 16.71555145\n",
            " 12.16679002 21.30745987 20.54794969 21.24080113 21.36707886 21.41232989\n",
            " 21.39154139 21.02672931 21.09453353 21.32657476 21.30892866 21.3140238\n",
            " 21.72635048 20.812378   21.25171412 21.3269387  20.86990249 17.2454009\n",
            " 21.37284313 21.3044933  21.37341985]\n"
          ]
        }
      ]
    },
    {
      "cell_type": "code",
      "source": [
        "plt.scatter(y_test, y_pred)\n",
        "#biểu đồ dự đoán sai số"
      ],
      "metadata": {
        "colab": {
          "base_uri": "https://localhost:8080/",
          "height": 282
        },
        "id": "qR7ex3KgvGGM",
        "outputId": "f4c52874-8e1e-4af2-edbc-c00e95c054fb"
      },
      "execution_count": null,
      "outputs": [
        {
          "output_type": "execute_result",
          "data": {
            "text/plain": [
              "<matplotlib.collections.PathCollection at 0x7f2e73718290>"
            ]
          },
          "metadata": {},
          "execution_count": 39
        },
        {
          "output_type": "display_data",
          "data": {
            "text/plain": [
              "<Figure size 432x288 with 1 Axes>"
            ],
            "image/png": "[encoded data removed]"
          },
          "metadata": {
            "needs_background": "light"
          }
        }
      ]
    },
    {
      "cell_type": "code",
      "source": [
        "print('Mean Squared Error:', metrics.mean_squared_error(y_test, y_pred))"
      ],
      "metadata": {
        "colab": {
          "base_uri": "https://localhost:8080/"
        },
        "id": "TkBGQCCyvIaR",
        "outputId": "8cf0b4c1-3853-409b-edd1-ef303b5f7c9a"
      },
      "execution_count": null,
      "outputs": [
        {
          "output_type": "stream",
          "name": "stdout",
          "text": [
            "Mean Squared Error: 34.07089623520456\n"
          ]
        }
      ]
    },
    {
      "cell_type": "code",
      "source": [
        "from sklearn.linear_model import LogisticRegression\n",
        "#dùng để dự đoán \n",
        "# We defining the model\n",
        "logreg = LogisticRegression(max_iter = 10000)\n",
        "\n",
        "# We train the model\n",
        "logreg.fit(X_train, y_train)\n",
        "\n",
        "# We predict target values\n",
        "y_predict1 = logreg.predict(X_test)\n",
        "print(y_predict1)\n",
        "plt.scatter(y_test, y_predict1)"
      ],
      "metadata": {
        "colab": {
          "base_uri": "https://localhost:8080/",
          "height": 476
        },
        "id": "6Ofg3kJpvM2A",
        "outputId": "37d14084-757f-4596-e32e-7d6f24a4d2fa"
      },
      "execution_count": null,
      "outputs": [
        {
          "output_type": "stream",
          "name": "stdout",
          "text": [
            "[24 24 23 24 10 22 10 10 22 23 24 17 23 10 10 24 24 23 22 24 17 24 29 17\n",
            " 23 22 24 24 10 10 23 10 29]\n"
          ]
        },
        {
          "output_type": "stream",
          "name": "stderr",
          "text": [
            "/usr/local/lib/python3.7/dist-packages/sklearn/linear_model/_logistic.py:818: ConvergenceWarning: lbfgs failed to converge (status=1):\n",
            "STOP: TOTAL NO. of ITERATIONS REACHED LIMIT.\n",
            "\n",
            "Increase the number of iterations (max_iter) or scale the data as shown in:\n",
            "    https://scikit-learn.org/stable/modules/preprocessing.html\n",
            "Please also refer to the documentation for alternative solver options:\n",
            "    https://scikit-learn.org/stable/modules/linear_model.html#logistic-regression\n",
            "  extra_warning_msg=_LOGISTIC_SOLVER_CONVERGENCE_MSG,\n"
          ]
        },
        {
          "output_type": "execute_result",
          "data": {
            "text/plain": [
              "<matplotlib.collections.PathCollection at 0x7f2e738e8ed0>"
            ]
          },
          "metadata": {},
          "execution_count": 41
        },
        {
          "output_type": "display_data",
          "data": {
            "text/plain": [
              "<Figure size 432x288 with 1 Axes>"
            ],
            "image/png": "[encoded data removed]"
          },
          "metadata": {
            "needs_background": "light"
          }
        }
      ]
    },
    {
      "cell_type": "code",
      "source": [
        "from sklearn.metrics import classification_report, confusion_matrix, accuracy_score\n",
        "\n",
        "#In ra kết quả độ chính xác trên từng lớp\n",
        "print(accuracy_score(y_test, y_predict1))\n",
        "\n",
        "#In ra ma trận kết quả dự đoán\n",
        "print(confusion_matrix(y_test, y_predict1))"
      ],
      "metadata": {
        "colab": {
          "base_uri": "https://localhost:8080/"
        },
        "id": "z1ElCPqUvPrj",
        "outputId": "0b434f24-2d2e-4ad6-d4eb-720e5df6eaf4"
      },
      "execution_count": null,
      "outputs": [
        {
          "output_type": "stream",
          "name": "stdout",
          "text": [
            "0.24242424242424243\n",
            "[[0 0 0 0 0 0 1 0 0 0 0 0]\n",
            " [0 3 0 0 0 0 1 0 0 0 0 0]\n",
            " [0 0 0 0 0 0 0 2 0 0 0 0]\n",
            " [0 0 0 0 0 1 0 0 0 0 0 0]\n",
            " [0 0 0 0 0 0 0 1 0 0 0 0]\n",
            " [0 1 0 0 0 0 0 1 0 0 0 1]\n",
            " [0 0 0 0 0 1 1 0 0 0 0 0]\n",
            " [0 2 0 1 0 2 2 4 0 0 0 1]\n",
            " [0 0 0 2 0 0 0 2 0 0 0 0]\n",
            " [0 1 0 0 0 0 1 0 0 0 0 0]\n",
            " [0 1 0 0 0 0 0 0 0 0 0 0]\n",
            " [0 0 0 0 0 0 0 0 0 0 0 0]]\n"
          ]
        }
      ]
    },
    {
      "cell_type": "code",
      "source": [
        "# 5 Tính  mse \n",
        "print('Mean Squared Error:', metrics.mean_squared_error(y_test, y_pred))"
      ],
      "metadata": {
        "colab": {
          "base_uri": "https://localhost:8080/"
        },
        "id": "NyMT-bpkvSu5",
        "outputId": "a842d3be-616b-4abe-f65f-e06fca948e9e"
      },
      "execution_count": null,
      "outputs": [
        {
          "output_type": "stream",
          "name": "stdout",
          "text": [
            "Mean Squared Error: 34.07089623520456\n"
          ]
        }
      ]
    },
    {
      "cell_type": "code",
      "source": [
        "from sklearn.metrics import confusion_matrix\n",
        "\n",
        "cm = confusion_matrix(y_test, y_predict1) #Tính ma trận chuẩn hóa\n",
        "print(cm)"
      ],
      "metadata": {
        "colab": {
          "base_uri": "https://localhost:8080/"
        },
        "id": "CITTCeRzvW2W",
        "outputId": "3becb918-351e-46f9-da90-4ee21bfb2438"
      },
      "execution_count": null,
      "outputs": [
        {
          "output_type": "stream",
          "name": "stdout",
          "text": [
            "[[0 0 0 0 0 0 1 0 0 0 0 0]\n",
            " [0 3 0 0 0 0 1 0 0 0 0 0]\n",
            " [0 0 0 0 0 0 0 2 0 0 0 0]\n",
            " [0 0 0 0 0 1 0 0 0 0 0 0]\n",
            " [0 0 0 0 0 0 0 1 0 0 0 0]\n",
            " [0 1 0 0 0 0 0 1 0 0 0 1]\n",
            " [0 0 0 0 0 1 1 0 0 0 0 0]\n",
            " [0 2 0 1 0 2 2 4 0 0 0 1]\n",
            " [0 0 0 2 0 0 0 2 0 0 0 0]\n",
            " [0 1 0 0 0 0 1 0 0 0 0 0]\n",
            " [0 1 0 0 0 0 0 0 0 0 0 0]\n",
            " [0 0 0 0 0 0 0 0 0 0 0 0]]\n"
          ]
        }
      ]
    },
    {
      "cell_type": "code",
      "source": [
        "print(X)"
      ],
      "metadata": {
        "id": "zBpFIK7PvZfW",
        "outputId": "0d827619-0412-4be8-c68a-6d440d38c1a1",
        "colab": {
          "base_uri": "https://localhost:8080/"
        }
      },
      "execution_count": null,
      "outputs": [
        {
          "output_type": "stream",
          "name": "stdout",
          "text": [
            "     comment_count     views    likes  dislikes\n",
            "0           125882  17158579   787425     43420\n",
            "1            13030   1014651   127794      1688\n",
            "2             8181   3191434   146035      5339\n",
            "3            17518   2095828   132239      1989\n",
            "4            85067  33523622  1634130     21082\n",
            "..             ...       ...      ...       ...\n",
            "318            433    347848    10046        84\n",
            "319           1553    391642     4378       371\n",
            "320           9107   1663206    38322      3867\n",
            "321           4523    405955    30369       926\n",
            "322            782    286273     1264       335\n",
            "\n",
            "[323 rows x 4 columns]\n"
          ]
        }
      ]
    },
    {
      "cell_type": "code",
      "source": [
        "#vẽ tập dữ liệu X và tâm của 10 cụm\n",
        "from sklearn.cluster import KMeans\n",
        "model = KMeans(n_clusters=10, random_state=0).fit(X)\n",
        "centers = model.cluster_centers_\n",
        "print(centers)"
      ],
      "metadata": {
        "id": "FtVUb-TdvbbX",
        "outputId": "bb1ab1cb-5525-4622-86b7-de8ebda3af8a",
        "colab": {
          "base_uri": "https://localhost:8080/"
        }
      },
      "execution_count": null,
      "outputs": [
        {
          "output_type": "stream",
          "name": "stdout",
          "text": [
            "[[9.99553299e+02 1.87908447e+05 6.21792386e+03 2.99939086e+02]\n",
            " [9.03520000e+04 3.90822220e+07 1.72138400e+06 2.31370000e+04]\n",
            " [2.65950833e+04 4.97996108e+06 1.86297583e+05 3.48886667e+04]\n",
            " [1.24236000e+05 2.05394170e+07 8.40642000e+05 4.77150000e+04]\n",
            " [7.95562500e+03 1.73743817e+06 6.37240417e+04 2.92575000e+03]\n",
            " [8.50670000e+04 3.35236220e+07 1.63413000e+06 2.10820000e+04]\n",
            " [1.11600000e+04 1.00685240e+07 1.61411500e+05 1.19135000e+04]\n",
            " [9.67010526e+03 3.08388068e+06 9.69629474e+04 3.77352632e+03]\n",
            " [3.66167692e+03 7.81304200e+05 2.94306308e+04 1.02966154e+03]\n",
            " [1.25882000e+05 1.71585790e+07 7.87425000e+05 4.34200000e+04]]\n"
          ]
        }
      ]
    }
  ]
}